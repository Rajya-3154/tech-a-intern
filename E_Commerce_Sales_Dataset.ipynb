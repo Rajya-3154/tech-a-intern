{
  "metadata": {
    "kernelspec": {
      "language": "python",
      "display_name": "Python 3",
      "name": "python3"
    },
    "language_info": {
      "name": "python",
      "version": "3.10.12",
      "mimetype": "text/x-python",
      "codemirror_mode": {
        "name": "ipython",
        "version": 3
      },
      "pygments_lexer": "ipython3",
      "nbconvert_exporter": "python",
      "file_extension": ".py"
    },
    "kaggle": {
      "accelerator": "none",
      "dataSources": [
        {
          "sourceId": 4642886,
          "sourceType": "datasetVersion",
          "datasetId": 2699295
        }
      ],
      "dockerImageVersionId": 30635,
      "isInternetEnabled": true,
      "language": "python",
      "sourceType": "notebook",
      "isGpuEnabled": false
    },
    "colab": {
      "name": "E-Commerce Sales Dataset",
      "provenance": [],
      "include_colab_link": true
    }
  },
  "nbformat_minor": 0,
  "nbformat": 4,
  "cells": [
    {
      "cell_type": "markdown",
      "metadata": {
        "id": "view-in-github",
        "colab_type": "text"
      },
      "source": [
        "<a href=\"https://colab.research.google.com/github/Rajya-3154/tech-a-intern/blob/main/E_Commerce_Sales_Dataset.ipynb\" target=\"_parent\"><img src=\"https://colab.research.google.com/assets/colab-badge.svg\" alt=\"Open In Colab\"/></a>"
      ]
    },
    {
      "source": [
        "\n",
        "\n",
        "import os\n",
        "import sys\n",
        "from tempfile import NamedTemporaryFile\n",
        "from urllib.request import urlopen\n",
        "from urllib.parse import unquote, urlparse\n",
        "from urllib.error import HTTPError\n",
        "from zipfile import ZipFile\n",
        "import tarfile\n",
        "import shutil\n",
        "\n",
        "CHUNK_SIZE = 40960\n",
        "DATA_SOURCE_MAPPING = 'unlock-profits-with-e-commerce-sales-data:https%3A%2F%2Fstorage.googleapis.com%2Fkaggle-data-sets%2F2699295%2F4642886%2Fbundle%2Farchive.zip%3FX-Goog-Algorithm%3DGOOG4-RSA-SHA256%26X-Goog-Credential%3Dgcp-kaggle-com%2540kaggle-161607.iam.gserviceaccount.com%252F20240627%252Fauto%252Fstorage%252Fgoog4_request%26X-Goog-Date%3D20240627T134748Z%26X-Goog-Expires%3D259200%26X-Goog-SignedHeaders%3Dhost%26X-Goog-Signature%3D2dc578a6a47b4442ce261dcd36941679c07d9e1b766147a90ca70ad7a114a03992ad92fc6d74cbda7e835b40314ff197a217e56707fca15cfcc103a8c8261e5c35c49bbfc7e25a2c05ec4d10c95a8a74fcc199efcba71d0bdb371792f3bc6365467c006c85ae21ab1d618fef480f8e3d96cd47a8374ebb3d877ce53cc921b708835e6be53e3760e406b67b0bb6f7b70be8a508edcfa1a99ca4ba3412138f0d5854f8b16dc11c0fea520ad5afb5899d859d6cf225df70b19841c67f728cd375e93b1a1c0306db63d53b6d28870ac854df3cee78f15d8087e3131ef6b1178fcf080f0bc6d71976e4f91dbb885a92ed8ed308c2ee21b75a997d3a7ac6594ff19210'\n",
        "\n",
        "KAGGLE_INPUT_PATH='/kaggle/input'\n",
        "KAGGLE_WORKING_PATH='/kaggle/working'\n",
        "KAGGLE_SYMLINK='kaggle'\n",
        "\n",
        "!umount /kaggle/input/ 2> /dev/null\n",
        "shutil.rmtree('/kaggle/input', ignore_errors=True)\n",
        "os.makedirs(KAGGLE_INPUT_PATH, 0o777, exist_ok=True)\n",
        "os.makedirs(KAGGLE_WORKING_PATH, 0o777, exist_ok=True)\n",
        "\n",
        "try:\n",
        "  os.symlink(KAGGLE_INPUT_PATH, os.path.join(\"..\", 'input'), target_is_directory=True)\n",
        "except FileExistsError:\n",
        "  pass\n",
        "try:\n",
        "  os.symlink(KAGGLE_WORKING_PATH, os.path.join(\"..\", 'working'), target_is_directory=True)\n",
        "except FileExistsError:\n",
        "  pass\n",
        "\n",
        "for data_source_mapping in DATA_SOURCE_MAPPING.split(','):\n",
        "    directory, download_url_encoded = data_source_mapping.split(':')\n",
        "    download_url = unquote(download_url_encoded)\n",
        "    filename = urlparse(download_url).path\n",
        "    destination_path = os.path.join(KAGGLE_INPUT_PATH, directory)\n",
        "    try:\n",
        "        with urlopen(download_url) as fileres, NamedTemporaryFile() as tfile:\n",
        "            total_length = fileres.headers['content-length']\n",
        "            print(f'Downloading {directory}, {total_length} bytes compressed')\n",
        "            dl = 0\n",
        "            data = fileres.read(CHUNK_SIZE)\n",
        "            while len(data) > 0:\n",
        "                dl += len(data)\n",
        "                tfile.write(data)\n",
        "                done = int(50 * dl / int(total_length))\n",
        "                sys.stdout.write(f\"\\r[{'=' * done}{' ' * (50-done)}] {dl} bytes downloaded\")\n",
        "                sys.stdout.flush()\n",
        "                data = fileres.read(CHUNK_SIZE)\n",
        "            if filename.endswith('.zip'):\n",
        "              with ZipFile(tfile) as zfile:\n",
        "                zfile.extractall(destination_path)\n",
        "            else:\n",
        "              with tarfile.open(tfile.name) as tarfile:\n",
        "                tarfile.extractall(destination_path)\n",
        "            print(f'\\nDownloaded and uncompressed: {directory}')\n",
        "    except HTTPError as e:\n",
        "        print(f'Failed to load (likely expired) {download_url} to path {destination_path}')\n",
        "        continue\n",
        "    except OSError as e:\n",
        "        print(f'Failed to load {download_url} to path {destination_path}')\n",
        "        continue\n",
        "\n",
        "print('Data source import complete.')\n"
      ],
      "metadata": {
        "id": "Z1ismAQN8_Wd"
      },
      "cell_type": "code",
      "outputs": [],
      "execution_count": null
    },
    {
      "cell_type": "markdown",
      "source": [
        "**Introduction:** In today digital age, E-commerce has change the way shop and conduct business. With the rise of online platforms, huge amounts of data are generated daily. This store of information holds valuable insights that can drive strategic decision-making. In this dataset we search into a Python data analysis of an E-commerce sales dataset.\n"
      ],
      "metadata": {
        "id": "whG1OEi38_Wh"
      }
    },
    {
      "cell_type": "markdown",
      "source": [
        "**Dataset:** This is the e-commerce sales based dataset. In this dataset comprises various attributes, including customer information, product details, transactional data, and sales records. With Python as our tool of choice, we can use powerful libraries like Pandas and NumPy to explore, clean, and analyze this data efficiently."
      ],
      "metadata": {
        "id": "8QGPQO8D8_Wj"
      }
    },
    {
      "cell_type": "markdown",
      "source": [
        "**Objective** - Increase revenue and improve product category performance¶"
      ],
      "metadata": {
        "id": "sM21GkI58_Wj"
      }
    },
    {
      "cell_type": "markdown",
      "source": [
        "**Data Preprocessing:** This step involves handling missing values, removing duplicates, and ensuring consistency in data formats. By employing Python’s Pandas library."
      ],
      "metadata": {
        "id": "3spGiL_J8_Wk"
      }
    },
    {
      "cell_type": "markdown",
      "source": [
        "**Exploratory Data Analysis (EDA):** Let’s explore a few key aspects:\n",
        "\n",
        "**Sales Performance Analysis:** We can determine the top-selling products, identify peak sales periods, and evaluate the performance of different product categories. Python’s data visualization libraries such as Matplotlib and Seaborn enable us to create informative charts and graphs to better understand sales patterns.\n",
        "\n",
        "**Customer Segmentation:** Using techniques like clustering and RFM (Recency, Frequency, Monetary) analysis, we can segment customers based on their purchasing behavior. This allows us to identify high-value customers, understand their preferences, and tailor marketing strategies accordingly.\n",
        "\n",
        "**Geographic Analysis:** Analyzing sales data by geographical regions can reveal lucrative markets and highlight areas for potential expansion. Python’s geospatial libraries, such as GeoPandas and Folium, can help create interactive maps to visualize sales patterns geographically.\n",
        "\n",
        "**Seasonal Trends and Forecasting:** We can identify seasonal trends and patterns by examining historical sales data. Python provides libraries like Prophet and ARIMA to perform time series analysis and make accurate sales forecasts, enabling businesses to plan inventory, marketing campaigns, and resource allocation effectively."
      ],
      "metadata": {
        "id": "VoStrnEx8_Wl"
      }
    },
    {
      "cell_type": "markdown",
      "source": [
        "**Conclusion:** Python’s data analysis capabilities empower businesses to extract meaningful insights from complex E-commerce sales datasets. By leveraging Python libraries and techniques, we can uncover patterns, segment customers, identify sales trends, and make informed decisions to drive growth and success. The analysis we conducted is just a glimpse into the vast possibilities that data driven approaches offer in the real of E-commerce.Our data for a competitive lead in the dynamic world of online retail."
      ],
      "metadata": {
        "id": "V0WizT2V8_Wl"
      }
    },
    {
      "cell_type": "code",
      "source": [
        "import pandas as pd\n",
        "import numpy as np\n",
        "import matplotlib.pyplot as plt\n",
        "import seaborn as sns\n"
      ],
      "metadata": {
        "execution": {
          "iopub.status.busy": "2024-01-14T08:38:42.568541Z",
          "iopub.execute_input": "2024-01-14T08:38:42.569286Z",
          "iopub.status.idle": "2024-01-14T08:38:44.473075Z",
          "shell.execute_reply.started": "2024-01-14T08:38:42.569251Z",
          "shell.execute_reply": "2024-01-14T08:38:44.47187Z"
        },
        "trusted": true,
        "id": "BcPQFoC98_Wm"
      },
      "execution_count": null,
      "outputs": []
    },
    {
      "cell_type": "code",
      "source": [
        "amz = pd.read_csv('/kaggle/input/unlock-profits-with-e-commerce-sales-data/Amazon Sale Report.csv')"
      ],
      "metadata": {
        "execution": {
          "iopub.status.busy": "2024-01-14T08:38:44.475938Z",
          "iopub.execute_input": "2024-01-14T08:38:44.476423Z",
          "iopub.status.idle": "2024-01-14T08:38:46.345157Z",
          "shell.execute_reply.started": "2024-01-14T08:38:44.476391Z",
          "shell.execute_reply": "2024-01-14T08:38:46.343994Z"
        },
        "trusted": true,
        "id": "txL6Xqrq8_Wn"
      },
      "execution_count": null,
      "outputs": []
    },
    {
      "cell_type": "code",
      "source": [
        "sale = pd.read_csv('/kaggle/input/unlock-profits-with-e-commerce-sales-data/Sale Report.csv')"
      ],
      "metadata": {
        "execution": {
          "iopub.status.busy": "2024-01-14T08:38:46.347198Z",
          "iopub.execute_input": "2024-01-14T08:38:46.348067Z",
          "iopub.status.idle": "2024-01-14T08:38:46.379608Z",
          "shell.execute_reply.started": "2024-01-14T08:38:46.348024Z",
          "shell.execute_reply": "2024-01-14T08:38:46.378447Z"
        },
        "trusted": true,
        "id": "-EtTFAAa8_Wo"
      },
      "execution_count": null,
      "outputs": []
    },
    {
      "cell_type": "code",
      "source": [
        "amz.shape"
      ],
      "metadata": {
        "execution": {
          "iopub.status.busy": "2024-01-14T08:38:46.381178Z",
          "iopub.execute_input": "2024-01-14T08:38:46.382928Z",
          "iopub.status.idle": "2024-01-14T08:38:46.394209Z",
          "shell.execute_reply.started": "2024-01-14T08:38:46.382881Z",
          "shell.execute_reply": "2024-01-14T08:38:46.392787Z"
        },
        "trusted": true,
        "id": "KejH3_Ta8_Wo"
      },
      "execution_count": null,
      "outputs": []
    },
    {
      "cell_type": "code",
      "source": [
        "amz.columns"
      ],
      "metadata": {
        "execution": {
          "iopub.status.busy": "2024-01-14T08:38:46.398553Z",
          "iopub.execute_input": "2024-01-14T08:38:46.399656Z",
          "iopub.status.idle": "2024-01-14T08:38:46.411441Z",
          "shell.execute_reply.started": "2024-01-14T08:38:46.39956Z",
          "shell.execute_reply": "2024-01-14T08:38:46.409199Z"
        },
        "trusted": true,
        "id": "vbSAuFNy8_Wo"
      },
      "execution_count": null,
      "outputs": []
    },
    {
      "cell_type": "code",
      "source": [
        "# Removing unwanted columns from the table\n",
        "\n",
        "amzcopy = amz.drop(labels = ['index' , 'Order ID', 'Unnamed: 22', 'ship-postal-code', 'promotion-ids'], axis = 1)\n",
        "amz.head()"
      ],
      "metadata": {
        "execution": {
          "iopub.status.busy": "2024-01-14T08:38:46.413721Z",
          "iopub.execute_input": "2024-01-14T08:38:46.414186Z",
          "iopub.status.idle": "2024-01-14T08:38:46.574807Z",
          "shell.execute_reply.started": "2024-01-14T08:38:46.414142Z",
          "shell.execute_reply": "2024-01-14T08:38:46.573388Z"
        },
        "trusted": true,
        "id": "qFsTI6jU8_Wo"
      },
      "execution_count": null,
      "outputs": []
    },
    {
      "cell_type": "code",
      "source": [
        "# finding the unique values in column: Status\n",
        "\n",
        "unique_status = amzcopy['Status'].unique()\n",
        "unique_status"
      ],
      "metadata": {
        "execution": {
          "iopub.status.busy": "2024-01-14T08:38:46.576334Z",
          "iopub.execute_input": "2024-01-14T08:38:46.576794Z",
          "iopub.status.idle": "2024-01-14T08:38:46.603839Z",
          "shell.execute_reply.started": "2024-01-14T08:38:46.576752Z",
          "shell.execute_reply": "2024-01-14T08:38:46.602651Z"
        },
        "trusted": true,
        "id": "KoCl8Y2d8_Wp"
      },
      "execution_count": null,
      "outputs": []
    },
    {
      "cell_type": "code",
      "source": [
        "# First renaming the COlumn list\n",
        "\n",
        "amzcopy = amzcopy.rename(columns={'Sales Channel ': 'Sales_Channel'})\n",
        "amzcopy.head()"
      ],
      "metadata": {
        "execution": {
          "iopub.status.busy": "2024-01-14T08:38:46.60538Z",
          "iopub.execute_input": "2024-01-14T08:38:46.606264Z",
          "iopub.status.idle": "2024-01-14T08:38:46.663945Z",
          "shell.execute_reply.started": "2024-01-14T08:38:46.606223Z",
          "shell.execute_reply": "2024-01-14T08:38:46.662761Z"
        },
        "trusted": true,
        "id": "kPmiK18d8_Wp"
      },
      "execution_count": null,
      "outputs": []
    },
    {
      "cell_type": "code",
      "source": [
        "# finding the unique values in column: Status\n",
        "\n",
        "unique_status = amzcopy['Status'].unique()\n",
        "unique_status"
      ],
      "metadata": {
        "execution": {
          "iopub.status.busy": "2024-01-14T08:38:46.665704Z",
          "iopub.execute_input": "2024-01-14T08:38:46.666138Z",
          "iopub.status.idle": "2024-01-14T08:38:46.690373Z",
          "shell.execute_reply.started": "2024-01-14T08:38:46.666099Z",
          "shell.execute_reply": "2024-01-14T08:38:46.689526Z"
        },
        "trusted": true,
        "id": "wwqpIaK-8_Wp"
      },
      "execution_count": null,
      "outputs": []
    },
    {
      "cell_type": "code",
      "source": [
        "# Define the list of columns for which you want to print unique values\n",
        "columns = ['Status', 'Fulfilment', 'Sales_Channel', 'ship-service-level', 'Category', 'Size',\n",
        "           'Courier Status', 'Qty', 'currency', 'B2B', 'fulfilled-by']\n",
        "\n",
        "# Iterate over the columns and print unique values in a tabular form\n",
        "for column in columns:\n",
        "    unique_values = amzcopy[column].unique()\n",
        "    unique_values_count = len(unique_values)\n",
        "\n",
        "    print(f\"Column: {column}\")\n",
        "    print(f\"Number of unique values: {unique_values_count}\")\n",
        "    print(\"Unique values in: {}\".format(column))\n",
        "    for value in unique_values:\n",
        "        print(value)\n",
        "    print(\"-----------------------\")\n",
        "    print(\"\\n\")"
      ],
      "metadata": {
        "execution": {
          "iopub.status.busy": "2024-01-14T08:38:46.691735Z",
          "iopub.execute_input": "2024-01-14T08:38:46.692079Z",
          "iopub.status.idle": "2024-01-14T08:38:46.814469Z",
          "shell.execute_reply.started": "2024-01-14T08:38:46.692043Z",
          "shell.execute_reply": "2024-01-14T08:38:46.813261Z"
        },
        "trusted": true,
        "id": "WVWTvMF48_Wp"
      },
      "execution_count": null,
      "outputs": []
    },
    {
      "cell_type": "code",
      "source": [
        "amz.isna() # checking the null values in the dataset"
      ],
      "metadata": {
        "execution": {
          "iopub.status.busy": "2024-01-14T08:38:46.816069Z",
          "iopub.execute_input": "2024-01-14T08:38:46.816984Z",
          "iopub.status.idle": "2024-01-14T08:38:47.165841Z",
          "shell.execute_reply.started": "2024-01-14T08:38:46.81694Z",
          "shell.execute_reply": "2024-01-14T08:38:47.164889Z"
        },
        "trusted": true,
        "id": "T1NM6bHT8_Wp"
      },
      "execution_count": null,
      "outputs": []
    },
    {
      "cell_type": "code",
      "source": [
        "amzcopy.isnull().sum()"
      ],
      "metadata": {
        "execution": {
          "iopub.status.busy": "2024-01-14T08:38:47.169832Z",
          "iopub.execute_input": "2024-01-14T08:38:47.170222Z",
          "iopub.status.idle": "2024-01-14T08:38:47.40193Z",
          "shell.execute_reply.started": "2024-01-14T08:38:47.170188Z",
          "shell.execute_reply": "2024-01-14T08:38:47.400676Z"
        },
        "trusted": true,
        "id": "Ucn5FpOf8_Wq"
      },
      "execution_count": null,
      "outputs": []
    },
    {
      "cell_type": "code",
      "source": [
        "# Changing the 'NaN' values in 'Currency' column to 'COD'\n",
        "amzcopy['currency'] = amzcopy['currency'].fillna('COD')"
      ],
      "metadata": {
        "execution": {
          "iopub.status.busy": "2024-01-14T08:38:47.403701Z",
          "iopub.execute_input": "2024-01-14T08:38:47.404407Z",
          "iopub.status.idle": "2024-01-14T08:38:47.427139Z",
          "shell.execute_reply.started": "2024-01-14T08:38:47.404374Z",
          "shell.execute_reply": "2024-01-14T08:38:47.425844Z"
        },
        "trusted": true,
        "id": "uBOJwgu78_Wq"
      },
      "execution_count": null,
      "outputs": []
    },
    {
      "cell_type": "code",
      "source": [
        "# checking the unique values in column: currency\n",
        "\n",
        "unique_currency = amzcopy['currency'].unique()\n",
        "unique_currency"
      ],
      "metadata": {
        "execution": {
          "iopub.status.busy": "2024-01-14T08:38:47.433698Z",
          "iopub.execute_input": "2024-01-14T08:38:47.434088Z",
          "iopub.status.idle": "2024-01-14T08:38:47.452898Z",
          "shell.execute_reply.started": "2024-01-14T08:38:47.434055Z",
          "shell.execute_reply": "2024-01-14T08:38:47.45085Z"
        },
        "trusted": true,
        "id": "-6VS3LmX8_Wq"
      },
      "execution_count": null,
      "outputs": []
    },
    {
      "cell_type": "code",
      "source": [
        "# Changing the 'NaN' values in 'Currency' column to 'COD'\n",
        "amzcopy['currency'] = amzcopy['currency'].fillna('COD')"
      ],
      "metadata": {
        "execution": {
          "iopub.status.busy": "2024-01-14T08:38:47.454536Z",
          "iopub.execute_input": "2024-01-14T08:38:47.455183Z",
          "iopub.status.idle": "2024-01-14T08:38:47.478176Z",
          "shell.execute_reply.started": "2024-01-14T08:38:47.455149Z",
          "shell.execute_reply": "2024-01-14T08:38:47.476884Z"
        },
        "trusted": true,
        "id": "KzTq9w_i8_Wq"
      },
      "execution_count": null,
      "outputs": []
    },
    {
      "cell_type": "code",
      "source": [
        "# datatype of each columns\n",
        "amzcopy.dtypes"
      ],
      "metadata": {
        "execution": {
          "iopub.status.busy": "2024-01-14T08:38:47.479548Z",
          "iopub.execute_input": "2024-01-14T08:38:47.480614Z",
          "iopub.status.idle": "2024-01-14T08:38:47.489232Z",
          "shell.execute_reply.started": "2024-01-14T08:38:47.480559Z",
          "shell.execute_reply": "2024-01-14T08:38:47.488159Z"
        },
        "trusted": true,
        "id": "Bfp46LRR8_Wq"
      },
      "execution_count": null,
      "outputs": []
    },
    {
      "cell_type": "code",
      "source": [
        "# converting 'Date' datatype from object to Datetime.\n",
        "amzcopy['Date'] = pd.to_datetime(amzcopy['Date'])"
      ],
      "metadata": {
        "execution": {
          "iopub.status.busy": "2024-01-14T08:38:47.490697Z",
          "iopub.execute_input": "2024-01-14T08:38:47.491383Z",
          "iopub.status.idle": "2024-01-14T08:38:47.539254Z",
          "shell.execute_reply.started": "2024-01-14T08:38:47.49135Z",
          "shell.execute_reply": "2024-01-14T08:38:47.53815Z"
        },
        "trusted": true,
        "id": "gqbp48IY8_Wq"
      },
      "execution_count": null,
      "outputs": []
    },
    {
      "cell_type": "code",
      "source": [
        "amzcopy['month'] = amzcopy['Date'].dt.month\n",
        "amzcopy['month'].unique()"
      ],
      "metadata": {
        "execution": {
          "iopub.status.busy": "2024-01-14T08:42:38.697273Z",
          "iopub.execute_input": "2024-01-14T08:42:38.697772Z",
          "iopub.status.idle": "2024-01-14T08:42:38.72126Z",
          "shell.execute_reply.started": "2024-01-14T08:42:38.697733Z",
          "shell.execute_reply": "2024-01-14T08:42:38.720123Z"
        },
        "trusted": true,
        "id": "Ok71fAhs8_Wq"
      },
      "execution_count": null,
      "outputs": []
    },
    {
      "cell_type": "code",
      "source": [
        "months = ['march','April', 'May', 'June']\n",
        "amzcopy['month'].replace([3,4,5,6],months, inplace = True)"
      ],
      "metadata": {
        "execution": {
          "iopub.status.busy": "2024-01-14T08:43:16.688536Z",
          "iopub.execute_input": "2024-01-14T08:43:16.688963Z",
          "iopub.status.idle": "2024-01-14T08:43:16.726917Z",
          "shell.execute_reply.started": "2024-01-14T08:43:16.688931Z",
          "shell.execute_reply": "2024-01-14T08:43:16.725243Z"
        },
        "trusted": true,
        "id": "EAjwqCZJ8_Wq"
      },
      "execution_count": null,
      "outputs": []
    },
    {
      "cell_type": "code",
      "source": [
        "print(f'The earliest date is {amzcopy[\"Date\"].min()}')\n",
        "print(f'The latest date is {amzcopy[\"Date\"].max()}')"
      ],
      "metadata": {
        "execution": {
          "iopub.status.busy": "2024-01-14T08:43:50.382648Z",
          "iopub.execute_input": "2024-01-14T08:43:50.383012Z",
          "iopub.status.idle": "2024-01-14T08:43:50.390873Z",
          "shell.execute_reply.started": "2024-01-14T08:43:50.382983Z",
          "shell.execute_reply": "2024-01-14T08:43:50.389649Z"
        },
        "trusted": true,
        "id": "Vz93JLP08_Wq"
      },
      "execution_count": null,
      "outputs": []
    },
    {
      "cell_type": "code",
      "source": [
        "amzcopy.head()"
      ],
      "metadata": {
        "execution": {
          "iopub.status.busy": "2024-01-14T08:44:34.229906Z",
          "iopub.execute_input": "2024-01-14T08:44:34.23029Z",
          "iopub.status.idle": "2024-01-14T08:44:34.260529Z",
          "shell.execute_reply.started": "2024-01-14T08:44:34.23026Z",
          "shell.execute_reply": "2024-01-14T08:44:34.259393Z"
        },
        "trusted": true,
        "id": "5Cckdnqs8_Wq"
      },
      "execution_count": null,
      "outputs": []
    },
    {
      "cell_type": "code",
      "source": [
        "# 1. Groupby and Sum of Amount by Category\n",
        "category_sum = amzcopy.groupby('Category')['Amount'].sum().sort_values(ascending=False)"
      ],
      "metadata": {
        "execution": {
          "iopub.status.busy": "2024-01-14T08:45:16.542906Z",
          "iopub.execute_input": "2024-01-14T08:45:16.543306Z",
          "iopub.status.idle": "2024-01-14T08:45:16.567285Z",
          "shell.execute_reply.started": "2024-01-14T08:45:16.543276Z",
          "shell.execute_reply": "2024-01-14T08:45:16.566376Z"
        },
        "trusted": true,
        "id": "XRz6pi_O8_Wr"
      },
      "execution_count": null,
      "outputs": []
    },
    {
      "cell_type": "code",
      "source": [
        "# 2. Monthly Sales Distribution\n",
        "monthly_sales = amzcopy.groupby('month')['Amount'].sum()\n",
        "plt.figure(figsize=(10, 6))\n",
        "sns.barplot(x=monthly_sales.index, y=monthly_sales.values, palette='viridis')\n",
        "plt.title('Monthly Sales Distribution')\n",
        "plt.xlabel('Month')\n",
        "plt.ylabel('Total Sales')\n",
        "plt.show()"
      ],
      "metadata": {
        "execution": {
          "iopub.status.busy": "2024-01-14T08:45:45.823486Z",
          "iopub.execute_input": "2024-01-14T08:45:45.823954Z",
          "iopub.status.idle": "2024-01-14T08:45:46.13326Z",
          "shell.execute_reply.started": "2024-01-14T08:45:45.823915Z",
          "shell.execute_reply": "2024-01-14T08:45:46.132046Z"
        },
        "trusted": true,
        "id": "-MMJeArs8_Wr"
      },
      "execution_count": null,
      "outputs": []
    },
    {
      "cell_type": "code",
      "source": [
        "# 3. Order Status Distribution\n",
        "order_status_dist = amzcopy['Status'].value_counts()\n",
        "plt.figure(figsize=(8, 6))\n",
        "order_status_dist.plot.pie(autopct='%1.1f%%', colors=['#ff9999','#66b3ff','#99ff99'])\n",
        "plt.title('Order Status Distribution')\n",
        "plt.show()"
      ],
      "metadata": {
        "execution": {
          "iopub.status.busy": "2024-01-14T08:46:23.07386Z",
          "iopub.execute_input": "2024-01-14T08:46:23.074285Z",
          "iopub.status.idle": "2024-01-14T08:46:23.451558Z",
          "shell.execute_reply.started": "2024-01-14T08:46:23.074253Z",
          "shell.execute_reply": "2024-01-14T08:46:23.450342Z"
        },
        "trusted": true,
        "id": "n7LX2ak_8_Wr"
      },
      "execution_count": null,
      "outputs": []
    },
    {
      "cell_type": "code",
      "source": [
        "# 4. Fulfillment Method Analysis\n",
        "fulfillment_method = amzcopy.groupby('Fulfilment')['Qty'].sum().sort_values(ascending=False)\n",
        "plt.figure(figsize=(10, 6))\n",
        "sns.barplot(x=fulfillment_method.index, y=fulfillment_method.values, palette='pastel')\n",
        "plt.title('Fulfillment Method Analysis')\n",
        "plt.xlabel('Fulfillment Method')\n",
        "plt.ylabel('Total Quantity')\n",
        "plt.show()"
      ],
      "metadata": {
        "execution": {
          "iopub.status.busy": "2024-01-14T08:47:17.348083Z",
          "iopub.execute_input": "2024-01-14T08:47:17.348758Z",
          "iopub.status.idle": "2024-01-14T08:47:17.650305Z",
          "shell.execute_reply.started": "2024-01-14T08:47:17.348711Z",
          "shell.execute_reply": "2024-01-14T08:47:17.649285Z"
        },
        "trusted": true,
        "id": "5rxy0eRT8_Wr"
      },
      "execution_count": null,
      "outputs": []
    },
    {
      "cell_type": "code",
      "source": [
        "# 5. Cancelled Orders Analysis\n",
        "cancelled_orders = amzcopy[amzcopy['Status'] == 'Cancelled']\n",
        "cancelled_reasons = cancelled_orders.groupby('Category')['Qty'].count().sort_values(ascending=False)\n",
        "plt.figure(figsize=(10, 6))\n",
        "cancelled_reasons.plot.bar(color='salmon')\n",
        "plt.title('Reasons for Cancelled Orders')\n",
        "plt.xlabel('Category')\n",
        "plt.ylabel('Number of Cancelled Orders')\n",
        "plt.show()"
      ],
      "metadata": {
        "execution": {
          "iopub.status.busy": "2024-01-14T08:48:38.394791Z",
          "iopub.execute_input": "2024-01-14T08:48:38.395211Z",
          "iopub.status.idle": "2024-01-14T08:48:39.037317Z",
          "shell.execute_reply.started": "2024-01-14T08:48:38.395179Z",
          "shell.execute_reply": "2024-01-14T08:48:39.03614Z"
        },
        "trusted": true,
        "id": "-B890X608_Wr"
      },
      "execution_count": null,
      "outputs": []
    },
    {
      "cell_type": "code",
      "source": [
        "# 6. B2B vs. Customer Sales\n",
        "plt.figure(figsize=(8, 6))\n",
        "sns.boxplot(x='B2B', y='Amount', data=amzcopy, palette='Set2')\n",
        "plt.title('B2B vs. Customer Sales')\n",
        "plt.xlabel('Customer Type')\n",
        "plt.ylabel('Amount')\n",
        "plt.show()"
      ],
      "metadata": {
        "execution": {
          "iopub.status.busy": "2024-01-14T08:49:18.609084Z",
          "iopub.execute_input": "2024-01-14T08:49:18.609611Z",
          "iopub.status.idle": "2024-01-14T08:49:18.91775Z",
          "shell.execute_reply.started": "2024-01-14T08:49:18.609537Z",
          "shell.execute_reply": "2024-01-14T08:49:18.916547Z"
        },
        "trusted": true,
        "id": "RAK4YLDi8_Wr"
      },
      "execution_count": null,
      "outputs": []
    },
    {
      "cell_type": "code",
      "source": [
        "# 7. SKU-Level Analysis\n",
        "top_skus = amzcopy.groupby('SKU')['Qty'].sum().nlargest(10)\n",
        "plt.figure(figsize=(12, 6))\n",
        "sns.barplot(x=top_skus.index, y=top_skus.values, palette='coolwarm')\n",
        "plt.title('Top 10 SKUs by Quantity Sold')\n",
        "plt.xlabel('SKU')\n",
        "plt.ylabel('Total Quantity Sold')\n",
        "plt.xticks(rotation=45)\n",
        "plt.show()"
      ],
      "metadata": {
        "execution": {
          "iopub.status.busy": "2024-01-14T08:49:53.833438Z",
          "iopub.execute_input": "2024-01-14T08:49:53.833912Z",
          "iopub.status.idle": "2024-01-14T08:49:54.234104Z",
          "shell.execute_reply.started": "2024-01-14T08:49:53.833878Z",
          "shell.execute_reply": "2024-01-14T08:49:54.232916Z"
        },
        "trusted": true,
        "id": "ikXKLRqL8_Ws"
      },
      "execution_count": null,
      "outputs": []
    },
    {
      "cell_type": "code",
      "source": [
        "# 8. Average Amount per Order by Fulfillment Method\n",
        "avg_amount_order = amzcopy.groupby('Fulfilment')['Amount'].mean().sort_values(ascending=False)\n",
        "plt.figure(figsize=(10, 6))\n",
        "sns.barplot(x=avg_amount_order.index, y=avg_amount_order.values, palette='Blues_r')\n",
        "plt.title('Average Amount per Order by Fulfillment Method')\n",
        "plt.xlabel('Fulfillment Method')\n",
        "plt.ylabel('Average Amount')\n",
        "plt.show()"
      ],
      "metadata": {
        "execution": {
          "iopub.status.busy": "2024-01-14T08:50:30.861192Z",
          "iopub.execute_input": "2024-01-14T08:50:30.86164Z",
          "iopub.status.idle": "2024-01-14T08:50:31.158556Z",
          "shell.execute_reply.started": "2024-01-14T08:50:30.861608Z",
          "shell.execute_reply": "2024-01-14T08:50:31.157364Z"
        },
        "trusted": true,
        "id": "uwFHU5QJ8_Ws"
      },
      "execution_count": null,
      "outputs": []
    },
    {
      "cell_type": "code",
      "source": [
        "# 10. Size-wise Sales Analysis\n",
        "size_sales = amzcopy.groupby('Size')['Amount'].sum().sort_values(ascending=False)\n",
        "plt.figure(figsize=(10, 6))\n",
        "size_sales.plot.bar(color='skyblue')\n",
        "plt.title('Size-wise Sales Analysis')\n",
        "plt.xlabel('Size')\n",
        "plt.ylabel('Total Sales')\n",
        "plt.show()"
      ],
      "metadata": {
        "execution": {
          "iopub.status.busy": "2024-01-14T08:50:57.132242Z",
          "iopub.execute_input": "2024-01-14T08:50:57.132663Z",
          "iopub.status.idle": "2024-01-14T08:50:57.493977Z",
          "shell.execute_reply.started": "2024-01-14T08:50:57.132624Z",
          "shell.execute_reply": "2024-01-14T08:50:57.492858Z"
        },
        "trusted": true,
        "id": "4jIB1RBu8_Wt"
      },
      "execution_count": null,
      "outputs": []
    },
    {
      "cell_type": "code",
      "source": [
        "# 11. Pairwise Relationships in the Dataset\n",
        "sns.pairplot(amzcopy[['Qty', 'Amount', 'Date']], palette='husl')\n",
        "plt.suptitle('Pairwise Relationships in the Dataset', y=1.02)\n",
        "plt.show()"
      ],
      "metadata": {
        "execution": {
          "iopub.status.busy": "2024-01-14T08:51:34.218719Z",
          "iopub.execute_input": "2024-01-14T08:51:34.219139Z",
          "iopub.status.idle": "2024-01-14T08:51:36.985878Z",
          "shell.execute_reply.started": "2024-01-14T08:51:34.219105Z",
          "shell.execute_reply": "2024-01-14T08:51:36.984809Z"
        },
        "trusted": true,
        "id": "YjsC6yif8_Wt"
      },
      "execution_count": null,
      "outputs": []
    },
    {
      "cell_type": "code",
      "source": [
        "# 13. Category-wise Average Transaction Amount\n",
        "avg_transaction_amount = amzcopy.groupby('Category')['Amount'].mean().sort_values(ascending=False)\n",
        "plt.figure(figsize=(10, 6))\n",
        "sns.barplot(x=avg_transaction_amount.index, y=avg_transaction_amount.values, palette='coolwarm')\n",
        "plt.title('Category-wise Average Transaction Amount')\n",
        "plt.xlabel('Category')\n",
        "plt.ylabel('Average Transacation Amount')\n",
        "plt.xticks(rotation=45)\n",
        "plt.show()"
      ],
      "metadata": {
        "execution": {
          "iopub.status.busy": "2024-01-14T08:54:39.569064Z",
          "iopub.execute_input": "2024-01-14T08:54:39.569486Z",
          "iopub.status.idle": "2024-01-14T08:54:39.95605Z",
          "shell.execute_reply.started": "2024-01-14T08:54:39.569455Z",
          "shell.execute_reply": "2024-01-14T08:54:39.954972Z"
        },
        "trusted": true,
        "id": "yfxOzlkH8_Wt"
      },
      "execution_count": null,
      "outputs": []
    },
    {
      "cell_type": "code",
      "source": [
        "# 14. Heatmap of Quantity Sold by Category and Size\n",
        "heatmap_data = amzcopy.pivot_table(index='Category', columns='Size', values='Qty', aggfunc='sum', fill_value=0)\n",
        "plt.figure(figsize=(12, 8))\n",
        "sns.heatmap(heatmap_data, cmap='YlGnBu', annot=True, fmt='d', linewidths=.5)\n",
        "plt.title('Heatmap of Quantity Sold by Category and Size')\n",
        "plt.show()"
      ],
      "metadata": {
        "execution": {
          "iopub.status.busy": "2024-01-14T08:55:07.969127Z",
          "iopub.execute_input": "2024-01-14T08:55:07.969547Z",
          "iopub.status.idle": "2024-01-14T08:55:09.007025Z",
          "shell.execute_reply.started": "2024-01-14T08:55:07.969515Z",
          "shell.execute_reply": "2024-01-14T08:55:09.005804Z"
        },
        "trusted": true,
        "id": "bVBhY2Mz8_Wu"
      },
      "execution_count": null,
      "outputs": []
    },
    {
      "cell_type": "code",
      "source": [],
      "metadata": {
        "id": "ix_g50Bm8_Wu"
      },
      "execution_count": null,
      "outputs": []
    },
    {
      "cell_type": "code",
      "source": [
        "sale.columns"
      ],
      "metadata": {
        "execution": {
          "iopub.status.busy": "2024-01-14T08:38:47.540481Z",
          "iopub.execute_input": "2024-01-14T08:38:47.540849Z",
          "iopub.status.idle": "2024-01-14T08:38:47.548218Z",
          "shell.execute_reply.started": "2024-01-14T08:38:47.540819Z",
          "shell.execute_reply": "2024-01-14T08:38:47.547122Z"
        },
        "trusted": true,
        "id": "-adzJsEM8_Wv"
      },
      "execution_count": null,
      "outputs": []
    },
    {
      "cell_type": "code",
      "source": [
        "sale.head()"
      ],
      "metadata": {
        "execution": {
          "iopub.status.busy": "2024-01-14T08:38:47.549618Z",
          "iopub.execute_input": "2024-01-14T08:38:47.550543Z",
          "iopub.status.idle": "2024-01-14T08:38:47.573275Z",
          "shell.execute_reply.started": "2024-01-14T08:38:47.550502Z",
          "shell.execute_reply": "2024-01-14T08:38:47.57187Z"
        },
        "trusted": true,
        "id": "U_XNLU1L8_Wv"
      },
      "execution_count": null,
      "outputs": []
    },
    {
      "cell_type": "code",
      "source": [
        "# Removing unwanted columns from the table\n",
        "\n",
        "sale = sale.drop(labels = ['index'], axis = 1)\n",
        "sale.head()"
      ],
      "metadata": {
        "execution": {
          "iopub.status.busy": "2024-01-14T08:38:47.575488Z",
          "iopub.execute_input": "2024-01-14T08:38:47.575961Z",
          "iopub.status.idle": "2024-01-14T08:38:47.595349Z",
          "shell.execute_reply.started": "2024-01-14T08:38:47.575923Z",
          "shell.execute_reply": "2024-01-14T08:38:47.593953Z"
        },
        "trusted": true,
        "id": "r8P354Ul8_Wv"
      },
      "execution_count": null,
      "outputs": []
    },
    {
      "cell_type": "code",
      "source": [
        "sale.shape"
      ],
      "metadata": {
        "execution": {
          "iopub.status.busy": "2024-01-14T08:38:47.597177Z",
          "iopub.execute_input": "2024-01-14T08:38:47.597997Z",
          "iopub.status.idle": "2024-01-14T08:38:47.60573Z",
          "shell.execute_reply.started": "2024-01-14T08:38:47.597938Z",
          "shell.execute_reply": "2024-01-14T08:38:47.604653Z"
        },
        "trusted": true,
        "id": "MKhlmkj08_Wv"
      },
      "execution_count": null,
      "outputs": []
    },
    {
      "cell_type": "code",
      "source": [
        "sale.columns"
      ],
      "metadata": {
        "execution": {
          "iopub.status.busy": "2024-01-14T08:38:47.607417Z",
          "iopub.execute_input": "2024-01-14T08:38:47.608184Z",
          "iopub.status.idle": "2024-01-14T08:38:47.616886Z",
          "shell.execute_reply.started": "2024-01-14T08:38:47.608136Z",
          "shell.execute_reply": "2024-01-14T08:38:47.615652Z"
        },
        "trusted": true,
        "id": "ohgLAZF98_Wv"
      },
      "execution_count": null,
      "outputs": []
    },
    {
      "cell_type": "code",
      "source": [
        "# renaming 'SKU Code' to 'SKU'\n",
        "sale = sale.rename(columns={'SKU Code': 'SKU'})\n",
        "sale.columns"
      ],
      "metadata": {
        "execution": {
          "iopub.status.busy": "2024-01-14T08:38:47.620458Z",
          "iopub.execute_input": "2024-01-14T08:38:47.621114Z",
          "iopub.status.idle": "2024-01-14T08:38:47.632054Z",
          "shell.execute_reply.started": "2024-01-14T08:38:47.620931Z",
          "shell.execute_reply": "2024-01-14T08:38:47.631277Z"
        },
        "trusted": true,
        "id": "yuyp6UG48_Wv"
      },
      "execution_count": null,
      "outputs": []
    },
    {
      "cell_type": "code",
      "source": [
        "# Define the list of columns for which you want to print unique values\n",
        "columns_sales = ['Category', 'Size','Color']\n",
        "\n",
        "# Iterate over the columns and print unique values in a tabular form\n",
        "for column in columns_sales:\n",
        "    unique_salevalues = sale[column].unique()\n",
        "    unique_salevalues_count = len(unique_salevalues)\n",
        "\n",
        "    print(f\"Column: {column}\")\n",
        "    print(f\"Number of unique values: {unique_salevalues_count}\")\n",
        "    print(\"Unique values in: {}\".format(column))\n",
        "    for value in unique_salevalues:\n",
        "        print(value)\n",
        "    print(\"-----------------------\")\n",
        "    print(\"\\n\")"
      ],
      "metadata": {
        "execution": {
          "iopub.status.busy": "2024-01-14T08:38:47.633436Z",
          "iopub.execute_input": "2024-01-14T08:38:47.638438Z",
          "iopub.status.idle": "2024-01-14T08:38:47.653023Z",
          "shell.execute_reply.started": "2024-01-14T08:38:47.638398Z",
          "shell.execute_reply": "2024-01-14T08:38:47.651873Z"
        },
        "trusted": true,
        "id": "n_SateeK8_Wv"
      },
      "execution_count": null,
      "outputs": []
    },
    {
      "cell_type": "code",
      "source": [
        "# Convert the 'Category' column to first letter capital\n",
        "sale['Category'] = sale['Category'].str.title()\n",
        "sale['Category'].unique()"
      ],
      "metadata": {
        "execution": {
          "iopub.status.busy": "2024-01-14T08:38:47.654548Z",
          "iopub.execute_input": "2024-01-14T08:38:47.656193Z",
          "iopub.status.idle": "2024-01-14T08:38:47.673862Z",
          "shell.execute_reply.started": "2024-01-14T08:38:47.656148Z",
          "shell.execute_reply": "2024-01-14T08:38:47.672979Z"
        },
        "trusted": true,
        "id": "hsWAqLLE8_Ww"
      },
      "execution_count": null,
      "outputs": []
    },
    {
      "cell_type": "code",
      "source": [
        "# renaming 'An : Leggings' to 'Leggings'\n",
        "\n",
        "# Replace 'An : Leggings' with 'Leggings' in the 'Category' column\n",
        "sale['Category'] = sale['Category'].replace('An : Leggings', 'Leggings')\n",
        "sale['Category'].unique()"
      ],
      "metadata": {
        "execution": {
          "iopub.status.busy": "2024-01-14T08:38:47.675149Z",
          "iopub.execute_input": "2024-01-14T08:38:47.676008Z",
          "iopub.status.idle": "2024-01-14T08:38:47.692321Z",
          "shell.execute_reply.started": "2024-01-14T08:38:47.675968Z",
          "shell.execute_reply": "2024-01-14T08:38:47.69099Z"
        },
        "trusted": true,
        "id": "7jg8acLr8_Ww"
      },
      "execution_count": null,
      "outputs": []
    },
    {
      "cell_type": "code",
      "source": [
        "sale.isnull().sum()"
      ],
      "metadata": {
        "execution": {
          "iopub.status.busy": "2024-01-14T08:38:47.693967Z",
          "iopub.execute_input": "2024-01-14T08:38:47.69431Z",
          "iopub.status.idle": "2024-01-14T08:38:47.717646Z",
          "shell.execute_reply.started": "2024-01-14T08:38:47.694283Z",
          "shell.execute_reply": "2024-01-14T08:38:47.716444Z"
        },
        "trusted": true,
        "id": "ZaOTOrgH8_Ww"
      },
      "execution_count": null,
      "outputs": []
    },
    {
      "cell_type": "code",
      "source": [
        "# Changing the 'NaN' values in 'Category' column to 'Unknonwn'\n",
        "sale['Category'] = sale['Category'].fillna('Unknown')\n",
        ""
      ],
      "metadata": {
        "execution": {
          "iopub.status.busy": "2024-01-14T08:38:47.719503Z",
          "iopub.execute_input": "2024-01-14T08:38:47.720485Z",
          "iopub.status.idle": "2024-01-14T08:38:47.729731Z",
          "shell.execute_reply.started": "2024-01-14T08:38:47.720427Z",
          "shell.execute_reply": "2024-01-14T08:38:47.728657Z"
        },
        "trusted": true,
        "id": "GHBwgF8W8_Ww"
      },
      "execution_count": null,
      "outputs": []
    },
    {
      "cell_type": "code",
      "source": [
        "# Changing the 'NaN' values in 'Size' column to 'Unknonwn'\n",
        "sale['Size'] = sale['Size'].fillna('Unknown size')"
      ],
      "metadata": {
        "execution": {
          "iopub.status.busy": "2024-01-14T08:38:47.731172Z",
          "iopub.execute_input": "2024-01-14T08:38:47.731563Z",
          "iopub.status.idle": "2024-01-14T08:38:47.743042Z",
          "shell.execute_reply.started": "2024-01-14T08:38:47.731533Z",
          "shell.execute_reply": "2024-01-14T08:38:47.741972Z"
        },
        "trusted": true,
        "id": "nAADfLD38_Ww"
      },
      "execution_count": null,
      "outputs": []
    },
    {
      "cell_type": "code",
      "source": [
        "# Changing the 'NaN' values in 'Color' column to 'Unknonwn color'\n",
        "sale['Color'] = sale['Color'].fillna('Unknown color')"
      ],
      "metadata": {
        "execution": {
          "iopub.status.busy": "2024-01-14T08:38:47.744432Z",
          "iopub.execute_input": "2024-01-14T08:38:47.745018Z",
          "iopub.status.idle": "2024-01-14T08:38:47.755315Z",
          "shell.execute_reply.started": "2024-01-14T08:38:47.744986Z",
          "shell.execute_reply": "2024-01-14T08:38:47.75422Z"
        },
        "trusted": true,
        "id": "mdiG01FL8_Ww"
      },
      "execution_count": null,
      "outputs": []
    },
    {
      "cell_type": "code",
      "source": [
        "sale.dtypes"
      ],
      "metadata": {
        "execution": {
          "iopub.status.busy": "2024-01-14T08:38:47.756612Z",
          "iopub.execute_input": "2024-01-14T08:38:47.757139Z",
          "iopub.status.idle": "2024-01-14T08:38:47.767125Z",
          "shell.execute_reply.started": "2024-01-14T08:38:47.757095Z",
          "shell.execute_reply": "2024-01-14T08:38:47.766311Z"
        },
        "trusted": true,
        "id": "3Sp5IFLe8_Ww"
      },
      "execution_count": null,
      "outputs": []
    },
    {
      "cell_type": "markdown",
      "source": [
        "**Visualization**\n",
        "Some possible cases for data visualization using different types of charts and graphs:\n",
        "\n",
        "Bar Chart: Visualize categorical data by plotting bars of different heights. Useful for comparing data across different categories or groups.\n",
        "\n",
        "Pie Chart: Represent data as slices of a pie, showing the proportion or percentage distribution of different categories.\n",
        "\n",
        "Line Plot: Display the relationship between two continuous variables by plotting data points connected by lines. Suitable for visualizing trends or patterns over time.\n",
        "\n",
        "Scatter Plot: Plot individual data points in a Cartesian coordinate system to show the relationship between two continuous variables. Useful for identifying correlations or clusters in the data.\n",
        "\n",
        "Histogram: Display the distribution of a single numeric variable by dividing the data into bins and showing the frequency or count of observations in each bin.\n",
        "\n",
        "Box Plot: Visualize the distribution of a continuous variable through quartiles, outliers, and other statistical measures. Helps in identifying skewness, outliers, and variability in the data.\n",
        "\n",
        "Heatmap: Display a matrix of data as a grid of colored squares, where the colors represent the values. Useful for visualizing correlations or patterns in a tabular dataset.\n",
        "\n",
        "Area Chart: Plot the cumulative values of multiple variables over time, showing the contribution of each variable to the total.\n",
        "\n",
        "Violin Plot: Combine the features of a box plot and a kernel density plot to visualize the distribution and density of a variable.\n",
        "\n",
        "Bubble Chart: Represent data points as bubbles on a scatter plot, where the size or color of the bubble represents a third variable.\n",
        "\n",
        "TreeMap: Display hierarchical data as nested rectangles, where the size of each rectangle represents a value.\n",
        "\n",
        "Radar Chart: Display multivariate data on a two-dimensional chart with multiple axes, showing the values of each variable relative to a central point.\n"
      ],
      "metadata": {
        "id": "BxBCGjNj8_Ww"
      }
    },
    {
      "cell_type": "code",
      "source": [
        "# Creating subplots with 1 row and 2 columns\n",
        "fig, axs = plt.subplots(1, 2, figsize=(12, 5))\n",
        "\n",
        "# Bar Chart of 'Category' in df_amzcopy\n",
        "category_counts = amz['Category'].value_counts()\n",
        "axs[0].bar(category_counts.index, category_counts.values)\n",
        "axs[0].set_xlabel('Category')\n",
        "axs[0].set_ylabel('Count')\n",
        "axs[0].set_title('Products sold on Amazon vs Category')\n",
        "axs[0].tick_params(axis='x', rotation=90)\n",
        "\n",
        "# Bar Chart of 'Size' in df_amzcopy\n",
        "size_counts = amz['Size'].value_counts()\n",
        "axs[1].bar(size_counts.index, size_counts.values)\n",
        "axs[1].set_xlabel('Size')\n",
        "axs[1].set_ylabel('Count')\n",
        "axs[1].set_title('Products sold on Amazon vs Size')\n",
        "axs[1].tick_params(axis='x', rotation=90)\n",
        "\n",
        "# Adjust the spacing between subplots\n",
        "plt.tight_layout()\n",
        "\n",
        "# Show the plot\n",
        "plt.show()"
      ],
      "metadata": {
        "execution": {
          "iopub.status.busy": "2024-01-14T08:38:47.768598Z",
          "iopub.execute_input": "2024-01-14T08:38:47.769144Z",
          "iopub.status.idle": "2024-01-14T08:38:48.542609Z",
          "shell.execute_reply.started": "2024-01-14T08:38:47.769112Z",
          "shell.execute_reply": "2024-01-14T08:38:48.541354Z"
        },
        "trusted": true,
        "id": "LA0R6zu68_Wx"
      },
      "execution_count": null,
      "outputs": []
    },
    {
      "cell_type": "code",
      "source": [
        "# Calculate the count of each category in df_amzcopy\n",
        "amzcopy_category_counts = amzcopy['Category'].value_counts()\n",
        "\n",
        "# Calculate the count of each category in df_sale\n",
        "sale_category_counts = sale['Category'].value_counts()\n",
        "\n",
        "# Combine the category counts from both dataframes\n",
        "combined_category_counts = amzcopy_category_counts.add(sale_category_counts, fill_value=0)\n",
        "\n",
        "# Set the figure size\n",
        "plt.figure(figsize=(13, 7))  # Adjust the width and height as desired\n",
        "\n",
        "# Create a bar chart\n",
        "plt.bar(combined_category_counts.index, combined_category_counts.values)\n",
        "\n",
        "# Set labels and title\n",
        "plt.xlabel('Category')\n",
        "plt.ylabel('Count')\n",
        "plt.title('Category Counts from the seller for all kind of cloths')\n",
        "\n",
        "# Rotate x-axis labels if needed\n",
        "plt.xticks(rotation=45)\n",
        "\n",
        "# Display the plot\n",
        "plt.show()"
      ],
      "metadata": {
        "execution": {
          "iopub.status.busy": "2024-01-14T08:38:48.544226Z",
          "iopub.execute_input": "2024-01-14T08:38:48.544688Z",
          "iopub.status.idle": "2024-01-14T08:38:49.082729Z",
          "shell.execute_reply.started": "2024-01-14T08:38:48.544654Z",
          "shell.execute_reply": "2024-01-14T08:38:49.081743Z"
        },
        "trusted": true,
        "id": "HtSKzOu08_Wx"
      },
      "execution_count": null,
      "outputs": []
    },
    {
      "cell_type": "code",
      "source": [],
      "metadata": {
        "id": "DW-RPc6R8_Wx"
      },
      "execution_count": null,
      "outputs": []
    }
  ]
}