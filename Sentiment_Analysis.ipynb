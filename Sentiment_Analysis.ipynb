{
  "metadata": {
    "kernelspec": {
      "language": "python",
      "display_name": "Python 3",
      "name": "python3"
    },
    "language_info": {
      "name": "python",
      "version": "3.10.12",
      "mimetype": "text/x-python",
      "codemirror_mode": {
        "name": "ipython",
        "version": 3
      },
      "pygments_lexer": "ipython3",
      "nbconvert_exporter": "python",
      "file_extension": ".py"
    },
    "kaggle": {
      "accelerator": "gpu",
      "dataSources": [
        {
          "sourceId": 3063858,
          "sourceType": "datasetVersion",
          "datasetId": 1875905
        }
      ],
      "dockerImageVersionId": 30588,
      "isInternetEnabled": true,
      "language": "python",
      "sourceType": "notebook",
      "isGpuEnabled": true
    },
    "colab": {
      "name": "Sentiment Analysis",
      "provenance": [],
      "include_colab_link": true
    }
  },
  "nbformat_minor": 0,
  "nbformat": 4,
  "cells": [
    {
      "cell_type": "markdown",
      "metadata": {
        "id": "view-in-github",
        "colab_type": "text"
      },
      "source": [
        "<a href=\"https://colab.research.google.com/github/Rajya-3154/tech-a-intern/blob/main/Sentiment_Analysis.ipynb\" target=\"_parent\"><img src=\"https://colab.research.google.com/assets/colab-badge.svg\" alt=\"Open In Colab\"/></a>"
      ]
    },
    {
      "source": [
        "\n",
        "\n",
        "\n",
        "import os\n",
        "import sys\n",
        "from tempfile import NamedTemporaryFile\n",
        "from urllib.request import urlopen\n",
        "from urllib.parse import unquote, urlparse\n",
        "from urllib.error import HTTPError\n",
        "from zipfile import ZipFile\n",
        "import tarfile\n",
        "import shutil\n",
        "\n",
        "CHUNK_SIZE = 40960\n",
        "DATA_SOURCE_MAPPING = 'imdb-movie-ratings-sentiment-analysis:https%3A%2F%2Fstorage.googleapis.com%2Fkaggle-data-sets%2F1875905%2F3063858%2Fbundle%2Farchive.zip%3FX-Goog-Algorithm%3DGOOG4-RSA-SHA256%26X-Goog-Credential%3Dgcp-kaggle-com%2540kaggle-161607.iam.gserviceaccount.com%252F20240627%252Fauto%252Fstorage%252Fgoog4_request%26X-Goog-Date%3D20240627T134631Z%26X-Goog-Expires%3D259200%26X-Goog-SignedHeaders%3Dhost%26X-Goog-Signature%3D72269028e9e6a2c66c26336978e3dd6e9cd133b5e350e6421e0d4673452020801a2f78e364872c7dfd3fb79f8043cdee24c2d8aab28d5e75d012500abd9c74d134eb0e374f8f470badc49a20b48511ff3b65f0f8ee48279968df328296cab1f457e10bac83e456fdca63ef2e86b8892d963a0a8535c8984005e24421f6e855ef81613aa4af0209753e5647a925338e884f0f44d30b503a1f87e65e587b0e61e4fb817cc36de9986f9125d5680eacc6243ac862e266753c8318878153982e3e58f1f37a9c549521157bf21e5693546ada617393580c49262d6bbf93d471dadad9a5a397d15350c36c59c6f818276ef529154816839d7a6fbc33adbe75ed76f532'\n",
        "\n",
        "KAGGLE_INPUT_PATH='/kaggle/input'\n",
        "KAGGLE_WORKING_PATH='/kaggle/working'\n",
        "KAGGLE_SYMLINK='kaggle'\n",
        "\n",
        "!umount /kaggle/input/ 2> /dev/null\n",
        "shutil.rmtree('/kaggle/input', ignore_errors=True)\n",
        "os.makedirs(KAGGLE_INPUT_PATH, 0o777, exist_ok=True)\n",
        "os.makedirs(KAGGLE_WORKING_PATH, 0o777, exist_ok=True)\n",
        "\n",
        "try:\n",
        "  os.symlink(KAGGLE_INPUT_PATH, os.path.join(\"..\", 'input'), target_is_directory=True)\n",
        "except FileExistsError:\n",
        "  pass\n",
        "try:\n",
        "  os.symlink(KAGGLE_WORKING_PATH, os.path.join(\"..\", 'working'), target_is_directory=True)\n",
        "except FileExistsError:\n",
        "  pass\n",
        "\n",
        "for data_source_mapping in DATA_SOURCE_MAPPING.split(','):\n",
        "    directory, download_url_encoded = data_source_mapping.split(':')\n",
        "    download_url = unquote(download_url_encoded)\n",
        "    filename = urlparse(download_url).path\n",
        "    destination_path = os.path.join(KAGGLE_INPUT_PATH, directory)\n",
        "    try:\n",
        "        with urlopen(download_url) as fileres, NamedTemporaryFile() as tfile:\n",
        "            total_length = fileres.headers['content-length']\n",
        "            print(f'Downloading {directory}, {total_length} bytes compressed')\n",
        "            dl = 0\n",
        "            data = fileres.read(CHUNK_SIZE)\n",
        "            while len(data) > 0:\n",
        "                dl += len(data)\n",
        "                tfile.write(data)\n",
        "                done = int(50 * dl / int(total_length))\n",
        "                sys.stdout.write(f\"\\r[{'=' * done}{' ' * (50-done)}] {dl} bytes downloaded\")\n",
        "                sys.stdout.flush()\n",
        "                data = fileres.read(CHUNK_SIZE)\n",
        "            if filename.endswith('.zip'):\n",
        "              with ZipFile(tfile) as zfile:\n",
        "                zfile.extractall(destination_path)\n",
        "            else:\n",
        "              with tarfile.open(tfile.name) as tarfile:\n",
        "                tarfile.extractall(destination_path)\n",
        "            print(f'\\nDownloaded and uncompressed: {directory}')\n",
        "    except HTTPError as e:\n",
        "        print(f'Failed to load (likely expired) {download_url} to path {destination_path}')\n",
        "        continue\n",
        "    except OSError as e:\n",
        "        print(f'Failed to load {download_url} to path {destination_path}')\n",
        "        continue\n",
        "\n",
        "print('Data source import complete.')\n"
      ],
      "metadata": {
        "id": "Hf_LX8VM8sb4"
      },
      "cell_type": "code",
      "outputs": [],
      "execution_count": null
    },
    {
      "cell_type": "code",
      "source": [
        "# This Python 3 environment comes with many helpful analytics libraries installed\n",
        "# It is defined by the kaggle/python Docker image: https://github.com/kaggle/docker-python\n",
        "# For example, here's several helpful packages to load\n",
        "\n",
        "import numpy as np # linear algebra\n",
        "import pandas as pd # data processing, CSV file I/O (e.g. pd.read_csv)\n",
        "\n",
        "# Input data files are available in the read-only \"../input/\" directory\n",
        "# For example, running this (by clicking run or pressing Shift+Enter) will list all files under the input directory\n",
        "\n",
        "import os\n",
        "for dirname, _, filenames in os.walk('/kaggle/input'):\n",
        "    for filename in filenames:\n",
        "        print(os.path.join(dirname, filename))\n",
        "\n",
        "# You can write up to 20GB to the current directory (/kaggle/working/) that gets preserved as output when you create a version using \"Save & Run All\"\n",
        "# You can also write temporary files to /kaggle/temp/, but they won't be saved outside of the current session"
      ],
      "metadata": {
        "_uuid": "8f2839f25d086af736a60e9eeb907d3b93b6e0e5",
        "_cell_guid": "b1076dfc-b9ad-4769-8c92-a6c4dae69d19",
        "execution": {
          "iopub.status.busy": "2023-11-22T13:44:48.470352Z",
          "iopub.execute_input": "2023-11-22T13:44:48.470744Z",
          "iopub.status.idle": "2023-11-22T13:44:48.487048Z",
          "shell.execute_reply.started": "2023-11-22T13:44:48.47071Z",
          "shell.execute_reply": "2023-11-22T13:44:48.486011Z"
        },
        "trusted": true,
        "id": "zI70LHyM8sb7"
      },
      "execution_count": null,
      "outputs": []
    },
    {
      "cell_type": "code",
      "source": [
        "!nvidia-smi"
      ],
      "metadata": {
        "_kg_hide-input": true,
        "execution": {
          "iopub.status.busy": "2023-11-22T13:44:55.394796Z",
          "iopub.execute_input": "2023-11-22T13:44:55.395675Z",
          "iopub.status.idle": "2023-11-22T13:44:56.491659Z",
          "shell.execute_reply.started": "2023-11-22T13:44:55.395642Z",
          "shell.execute_reply": "2023-11-22T13:44:56.49062Z"
        },
        "_kg_hide-output": true,
        "trusted": true,
        "id": "HBY971bt8sb7"
      },
      "execution_count": null,
      "outputs": []
    },
    {
      "cell_type": "code",
      "source": [
        "import pandas as pd\n",
        "df=pd.read_csv(\"/kaggle/input/imdb-movie-ratings-sentiment-analysis/movie.csv\")\n",
        "df.head(3)"
      ],
      "metadata": {
        "execution": {
          "iopub.status.busy": "2023-11-22T13:44:59.270299Z",
          "iopub.execute_input": "2023-11-22T13:44:59.271024Z",
          "iopub.status.idle": "2023-11-22T13:44:59.786959Z",
          "shell.execute_reply.started": "2023-11-22T13:44:59.270987Z",
          "shell.execute_reply": "2023-11-22T13:44:59.785771Z"
        },
        "trusted": true,
        "id": "zicbRPCr8sb9"
      },
      "execution_count": null,
      "outputs": []
    },
    {
      "cell_type": "markdown",
      "source": [
        "# label [0 : Negative | 1 : Positive]"
      ],
      "metadata": {
        "id": "EMXcq3uM8sb9"
      }
    },
    {
      "cell_type": "code",
      "source": [
        "df.info()"
      ],
      "metadata": {
        "execution": {
          "iopub.status.busy": "2023-11-22T13:45:03.094816Z",
          "iopub.execute_input": "2023-11-22T13:45:03.095316Z",
          "iopub.status.idle": "2023-11-22T13:45:03.113673Z",
          "shell.execute_reply.started": "2023-11-22T13:45:03.095277Z",
          "shell.execute_reply": "2023-11-22T13:45:03.1126Z"
        },
        "trusted": true,
        "id": "Rg2F0mae8sb-"
      },
      "execution_count": null,
      "outputs": []
    },
    {
      "cell_type": "code",
      "source": [
        "df.label.value_counts()"
      ],
      "metadata": {
        "execution": {
          "iopub.status.busy": "2023-11-22T13:45:04.519678Z",
          "iopub.execute_input": "2023-11-22T13:45:04.520062Z",
          "iopub.status.idle": "2023-11-22T13:45:04.528375Z",
          "shell.execute_reply.started": "2023-11-22T13:45:04.520032Z",
          "shell.execute_reply": "2023-11-22T13:45:04.527398Z"
        },
        "trusted": true,
        "id": "kU4EXwOb8sb_"
      },
      "execution_count": null,
      "outputs": []
    },
    {
      "cell_type": "code",
      "source": [
        "display(df.describe())"
      ],
      "metadata": {
        "execution": {
          "iopub.status.busy": "2023-11-22T13:45:06.410201Z",
          "iopub.execute_input": "2023-11-22T13:45:06.410605Z",
          "iopub.status.idle": "2023-11-22T13:45:06.425859Z",
          "shell.execute_reply.started": "2023-11-22T13:45:06.410545Z",
          "shell.execute_reply": "2023-11-22T13:45:06.424971Z"
        },
        "trusted": true,
        "id": "fwc_onxh8sb_"
      },
      "execution_count": null,
      "outputs": []
    },
    {
      "cell_type": "markdown",
      "source": [
        "# Spacy api for Text preprocces"
      ],
      "metadata": {
        "id": "IRw7VbYc8sb_"
      }
    },
    {
      "cell_type": "code",
      "source": [
        "import spacy\n",
        "import numpy as np\n",
        "\n",
        "# load english Large model\n",
        "nlp = spacy.load(\"en_core_web_lg\")"
      ],
      "metadata": {
        "execution": {
          "iopub.status.busy": "2023-11-22T13:45:16.449342Z",
          "iopub.execute_input": "2023-11-22T13:45:16.449786Z",
          "iopub.status.idle": "2023-11-22T13:45:18.915667Z",
          "shell.execute_reply.started": "2023-11-22T13:45:16.44975Z",
          "shell.execute_reply": "2023-11-22T13:45:18.914762Z"
        },
        "trusted": true,
        "id": "JeuIKq0v8scA"
      },
      "execution_count": null,
      "outputs": []
    },
    {
      "cell_type": "code",
      "source": [
        "# Process the text using spaCy, convert to lowercase, and remove stop words,Punct & conver to Vector\n",
        "def vector(text):\n",
        "    doc = nlp(text.lower())\n",
        "    vectors = [token.vector for token in doc if not token.is_stop and not token.is_punct]\n",
        "    sentence_vector = np.mean(vectors, axis=0) if vectors else None\n",
        "\n",
        "    return sentence_vector"
      ],
      "metadata": {
        "execution": {
          "iopub.status.busy": "2023-11-22T13:45:19.469668Z",
          "iopub.execute_input": "2023-11-22T13:45:19.470048Z",
          "iopub.status.idle": "2023-11-22T13:45:19.475945Z",
          "shell.execute_reply.started": "2023-11-22T13:45:19.470017Z",
          "shell.execute_reply": "2023-11-22T13:45:19.474848Z"
        },
        "trusted": true,
        "id": "CHlzQxTb8scA"
      },
      "execution_count": null,
      "outputs": []
    },
    {
      "cell_type": "code",
      "source": [
        "df[\"vector\"]=df['text'].apply(vector)\n",
        "df.head(3)"
      ],
      "metadata": {
        "execution": {
          "iopub.status.busy": "2023-11-22T13:45:21.435226Z",
          "iopub.execute_input": "2023-11-22T13:45:21.435975Z",
          "iopub.status.idle": "2023-11-22T14:14:12.787539Z",
          "shell.execute_reply.started": "2023-11-22T13:45:21.43594Z",
          "shell.execute_reply": "2023-11-22T14:14:12.786569Z"
        },
        "trusted": true,
        "id": "5zJ08PWH8scA"
      },
      "execution_count": null,
      "outputs": []
    },
    {
      "cell_type": "code",
      "source": [
        "print(df.vector.shape)"
      ],
      "metadata": {
        "execution": {
          "iopub.status.busy": "2023-11-22T14:14:31.359129Z",
          "iopub.execute_input": "2023-11-22T14:14:31.359395Z",
          "iopub.status.idle": "2023-11-22T14:14:31.370102Z",
          "shell.execute_reply.started": "2023-11-22T14:14:31.359372Z",
          "shell.execute_reply": "2023-11-22T14:14:31.369197Z"
        },
        "trusted": true,
        "id": "nEgxgLx38scB"
      },
      "execution_count": null,
      "outputs": []
    },
    {
      "cell_type": "code",
      "source": [
        "# Split features and Target\n",
        "feature = np.stack(df.vector.values)\n",
        "target = df.label.values"
      ],
      "metadata": {
        "execution": {
          "iopub.status.busy": "2023-11-22T14:18:03.874231Z",
          "iopub.execute_input": "2023-11-22T14:18:03.874649Z",
          "iopub.status.idle": "2023-11-22T14:18:03.958874Z",
          "shell.execute_reply.started": "2023-11-22T14:18:03.874613Z",
          "shell.execute_reply": "2023-11-22T14:18:03.957835Z"
        },
        "trusted": true,
        "id": "wZfKPR7g8scB"
      },
      "execution_count": null,
      "outputs": []
    },
    {
      "cell_type": "code",
      "source": [
        "feature.shape,target"
      ],
      "metadata": {
        "execution": {
          "iopub.status.busy": "2023-11-22T14:18:07.258834Z",
          "iopub.execute_input": "2023-11-22T14:18:07.262113Z",
          "iopub.status.idle": "2023-11-22T14:18:07.269308Z",
          "shell.execute_reply.started": "2023-11-22T14:18:07.26207Z",
          "shell.execute_reply": "2023-11-22T14:18:07.268322Z"
        },
        "trusted": true,
        "id": "4TwsRSPS8scB"
      },
      "execution_count": null,
      "outputs": []
    },
    {
      "cell_type": "code",
      "source": [
        "from sklearn.model_selection import train_test_split\n",
        "\n",
        "# Training and Test data spliting\n",
        "\n",
        "X_train, X_test, y_train, y_test = train_test_split(feature, target, test_size=0.20, random_state=42)\n",
        "print(X_train.shape,y_train.shape,\"|\",X_test.shape,y_test.shape)"
      ],
      "metadata": {
        "execution": {
          "iopub.status.busy": "2023-11-22T14:18:14.198963Z",
          "iopub.execute_input": "2023-11-22T14:18:14.19934Z",
          "iopub.status.idle": "2023-11-22T14:18:14.227122Z",
          "shell.execute_reply.started": "2023-11-22T14:18:14.199308Z",
          "shell.execute_reply": "2023-11-22T14:18:14.226192Z"
        },
        "trusted": true,
        "id": "Jb65hsFR8scB"
      },
      "execution_count": null,
      "outputs": []
    },
    {
      "cell_type": "markdown",
      "source": [
        "Model Logistic Regression"
      ],
      "metadata": {
        "execution": {
          "iopub.status.busy": "2023-11-22T11:06:44.518588Z",
          "iopub.execute_input": "2023-11-22T11:06:44.519485Z",
          "iopub.status.idle": "2023-11-22T11:06:44.524971Z",
          "shell.execute_reply.started": "2023-11-22T11:06:44.519446Z",
          "shell.execute_reply": "2023-11-22T11:06:44.523939Z"
        },
        "id": "-rHCUQqY8scB"
      }
    },
    {
      "cell_type": "code",
      "source": [
        "from sklearn.linear_model import LogisticRegression\n",
        "from sklearn.metrics import classification_report\n",
        "from sklearn.metrics import confusion_matrix\n",
        "\n",
        "modelLR = LogisticRegression(max_iter=6000,)\n",
        "modelLR.fit(X_train, y_train)\n",
        "y_pred = modelLR.predict(X_test)\n",
        "print(classification_report(y_test, y_pred))"
      ],
      "metadata": {
        "execution": {
          "iopub.status.busy": "2023-11-22T14:23:07.673752Z",
          "iopub.execute_input": "2023-11-22T14:23:07.674611Z"
        },
        "trusted": true,
        "id": "diw2IaXy8scB"
      },
      "execution_count": null,
      "outputs": []
    },
    {
      "cell_type": "code",
      "source": [
        "import matplotlib.pyplot as plt\n",
        "import seaborn as sns\n",
        "# visualise confusion matrix Logistic Regression\n",
        "\n",
        "cm = confusion_matrix(y_test, y_pred)\n",
        "plt.figure(figsize = (6,5))\n",
        "sns.heatmap(cm, annot=True, fmt='d')\n",
        "plt.xlabel('Prediction')\n",
        "plt.ylabel('Truth')"
      ],
      "metadata": {
        "trusted": true,
        "id": "3nV_RfkM8scB"
      },
      "execution_count": null,
      "outputs": []
    },
    {
      "cell_type": "markdown",
      "source": [
        "Trying Deep Learning Models"
      ],
      "metadata": {
        "id": "ihlayOjH8scC"
      }
    },
    {
      "cell_type": "code",
      "source": [
        "import tensorflow as tf\n",
        "from tensorflow.keras.preprocessing.text import Tokenizer\n",
        "from tensorflow.keras.models import Sequential\n",
        "from tensorflow.keras.layers import LSTM,Dense,Flatten,SimpleRNN,Embedding,Dropout\n",
        "from tensorflow.keras.preprocessing.sequence import pad_sequences\n",
        "\n",
        "# Split features and Target For RNN\n",
        "\n",
        "feature1 = df.text.values\n",
        "target1 = df.label.values"
      ],
      "metadata": {
        "execution": {
          "iopub.status.busy": "2023-11-22T14:23:27.393973Z",
          "iopub.execute_input": "2023-11-22T14:23:27.394348Z",
          "iopub.status.idle": "2023-11-22T14:23:27.400171Z",
          "shell.execute_reply.started": "2023-11-22T14:23:27.394317Z",
          "shell.execute_reply": "2023-11-22T14:23:27.399287Z"
        },
        "trusted": true,
        "id": "rjDI4NKD8scC"
      },
      "execution_count": null,
      "outputs": []
    },
    {
      "cell_type": "code",
      "source": [
        "feature1[0]"
      ],
      "metadata": {
        "execution": {
          "iopub.status.busy": "2023-11-22T14:23:30.318243Z",
          "iopub.execute_input": "2023-11-22T14:23:30.3189Z",
          "iopub.status.idle": "2023-11-22T14:23:30.324828Z",
          "shell.execute_reply.started": "2023-11-22T14:23:30.318863Z",
          "shell.execute_reply": "2023-11-22T14:23:30.323825Z"
        },
        "trusted": true,
        "id": "RdjTPxrG8scC"
      },
      "execution_count": null,
      "outputs": []
    },
    {
      "cell_type": "code",
      "source": [
        "# Make New data for taining and testing\n",
        "\n",
        "X_train_R, X_test_R, y_train_R, y_test_R = train_test_split(feature1, target1, test_size=0.20, random_state=42)\n",
        "print(X_train_R.shape,y_train_R.shape,\"|\",X_test_R.shape,y_test_R.shape)"
      ],
      "metadata": {
        "execution": {
          "iopub.status.busy": "2023-11-22T14:23:44.224161Z",
          "iopub.execute_input": "2023-11-22T14:23:44.224528Z",
          "iopub.status.idle": "2023-11-22T14:23:44.235383Z",
          "shell.execute_reply.started": "2023-11-22T14:23:44.224497Z",
          "shell.execute_reply": "2023-11-22T14:23:44.234438Z"
        },
        "trusted": true,
        "id": "bnc1kDP38scC"
      },
      "execution_count": null,
      "outputs": []
    },
    {
      "cell_type": "markdown",
      "source": [
        "Tokenize Data and Padding for equal input"
      ],
      "metadata": {
        "id": "Q1RlqPcI8scC"
      }
    },
    {
      "cell_type": "code",
      "source": [
        "tokenizer = Tokenizer(num_words=10000, oov_token=\"<OOV>\")\n",
        "tokenizer.fit_on_texts(X_train_R)\n",
        "sequences_train = tokenizer.texts_to_sequences(X_train_R)\n",
        "sequences_test = tokenizer.texts_to_sequences(X_test_R)\n",
        "vocab_size = len(tokenizer.word_index) + 1\n",
        "\n",
        "X_train_R = pad_sequences(sequences_train, padding='post', maxlen=200)\n",
        "X_test_R = pad_sequences(sequences_test, padding='post', maxlen=200)"
      ],
      "metadata": {
        "execution": {
          "iopub.status.busy": "2023-11-22T14:24:00.903643Z",
          "iopub.execute_input": "2023-11-22T14:24:00.904361Z",
          "iopub.status.idle": "2023-11-22T14:24:14.253682Z",
          "shell.execute_reply.started": "2023-11-22T14:24:00.904331Z",
          "shell.execute_reply": "2023-11-22T14:24:14.252835Z"
        },
        "trusted": true,
        "id": "krSE94kH8scC"
      },
      "execution_count": null,
      "outputs": []
    },
    {
      "cell_type": "code",
      "source": [
        "X_train_R[0]"
      ],
      "metadata": {
        "execution": {
          "iopub.status.busy": "2023-11-22T14:24:14.255586Z",
          "iopub.execute_input": "2023-11-22T14:24:14.256259Z",
          "iopub.status.idle": "2023-11-22T14:24:14.263616Z",
          "shell.execute_reply.started": "2023-11-22T14:24:14.256222Z",
          "shell.execute_reply": "2023-11-22T14:24:14.262619Z"
        },
        "trusted": true,
        "id": "fGkIypeC8scD"
      },
      "execution_count": null,
      "outputs": []
    },
    {
      "cell_type": "code",
      "source": [
        "y_train_R"
      ],
      "metadata": {
        "execution": {
          "iopub.status.busy": "2023-11-22T14:24:14.264837Z",
          "iopub.execute_input": "2023-11-22T14:24:14.265165Z",
          "iopub.status.idle": "2023-11-22T14:24:14.276496Z",
          "shell.execute_reply.started": "2023-11-22T14:24:14.265134Z",
          "shell.execute_reply": "2023-11-22T14:24:14.27549Z"
        },
        "trusted": true,
        "id": "qnImwaMn8scD"
      },
      "execution_count": null,
      "outputs": []
    },
    {
      "cell_type": "code",
      "source": [
        "X_train_R.shape,y_train_R.shape"
      ],
      "metadata": {
        "execution": {
          "iopub.status.busy": "2023-11-22T14:24:14.278118Z",
          "iopub.execute_input": "2023-11-22T14:24:14.278437Z",
          "iopub.status.idle": "2023-11-22T14:24:14.28919Z",
          "shell.execute_reply.started": "2023-11-22T14:24:14.27841Z",
          "shell.execute_reply": "2023-11-22T14:24:14.288242Z"
        },
        "trusted": true,
        "id": "GdAo1j0Y8scD"
      },
      "execution_count": null,
      "outputs": []
    },
    {
      "cell_type": "markdown",
      "source": [
        "# Model building using ANN and Training"
      ],
      "metadata": {
        "id": "-HcRQhd38scD"
      }
    },
    {
      "cell_type": "code",
      "source": [
        "epochs = 20\n",
        "batch_size=64\n",
        "\n",
        "modelANN = Sequential()\n",
        "modelANN.add(Embedding(vocab_size, 300, input_length=200))\n",
        "modelANN.add(Flatten())\n",
        "modelANN.add(Dense(130,activation='relu',))\n",
        "modelANN.add(Dropout(0.5))\n",
        "modelANN.add(Dense(70,activation='relu',))\n",
        "modelANN.add(Dropout(0.5))\n",
        "modelANN.add(Dense(40,activation='relu'))\n",
        "modelANN.add(Dropout(0.5))\n",
        "modelANN.add(Dense(1,activation='sigmoid'))\n",
        "modelANN.summary()\n",
        "modelANN.compile(optimizer='adam', loss='binary_crossentropy', metrics=['acc'])\n",
        "history1 = modelANN.fit(X_train_R, y_train_R, batch_size=batch_size, epochs=epochs, verbose=1, validation_split=0.2)"
      ],
      "metadata": {
        "execution": {
          "iopub.status.busy": "2023-11-22T14:35:59.943615Z",
          "iopub.execute_input": "2023-11-22T14:35:59.944269Z",
          "iopub.status.idle": "2023-11-22T14:38:19.234043Z",
          "shell.execute_reply.started": "2023-11-22T14:35:59.944235Z",
          "shell.execute_reply": "2023-11-22T14:38:19.233091Z"
        },
        "trusted": true,
        "id": "I2sqa5Zg8scD"
      },
      "execution_count": null,
      "outputs": []
    },
    {
      "cell_type": "code",
      "source": [
        "# Visualise Accuracy and Losses\n",
        "\n",
        "plt.figure(figsize=(12, 4))\n",
        "plt.subplot(1, 2, 1)\n",
        "plt.plot(history1.history['acc'])\n",
        "plt.plot(history1.history['val_acc'])\n",
        "plt.title('Model Accuracy')\n",
        "plt.ylabel('Accuracy')\n",
        "plt.xlabel('Epoch')\n",
        "plt.legend(['Train', 'Validation'], loc='upper left')\n",
        "\n",
        "plt.subplot(1, 2, 2)\n",
        "plt.plot(history1.history['loss'])\n",
        "plt.plot(history1.history['val_loss'])\n",
        "plt.title('Model Loss')\n",
        "plt.ylabel('Loss')\n",
        "plt.xlabel('Epoch')\n",
        "plt.legend(['Train', 'Validation'], loc='upper left')\n",
        "\n",
        "plt.tight_layout()\n",
        "plt.show()"
      ],
      "metadata": {
        "execution": {
          "iopub.status.busy": "2023-11-22T14:38:19.236009Z",
          "iopub.execute_input": "2023-11-22T14:38:19.23633Z",
          "iopub.status.idle": "2023-11-22T14:38:19.776584Z",
          "shell.execute_reply.started": "2023-11-22T14:38:19.236301Z",
          "shell.execute_reply": "2023-11-22T14:38:19.775629Z"
        },
        "trusted": true,
        "id": "n1p2eCP58scE"
      },
      "execution_count": null,
      "outputs": []
    },
    {
      "cell_type": "code",
      "source": [
        "# visualise Classification reports and confusion matrix\n",
        "\n",
        "y_pred = modelANN.predict(X_test_R)\n",
        "threshold = 0.5\n",
        "y_pred_labels = np.where(y_pred >= threshold, 1, 0)\n",
        "\n",
        "print(classification_report(y_test_R, y_pred_labels))\n",
        "cm = confusion_matrix(y_test_R, y_pred_labels)\n",
        "plt.figure(figsize = (3,2))\n",
        "sns.heatmap(cm, annot=True, fmt='d')\n",
        "plt.xlabel('Prediction')\n",
        "plt.ylabel('Truth')"
      ],
      "metadata": {
        "execution": {
          "iopub.status.busy": "2023-11-22T14:38:19.777983Z",
          "iopub.execute_input": "2023-11-22T14:38:19.778823Z",
          "iopub.status.idle": "2023-11-22T14:38:20.563447Z",
          "shell.execute_reply.started": "2023-11-22T14:38:19.778783Z",
          "shell.execute_reply": "2023-11-22T14:38:20.562543Z"
        },
        "trusted": true,
        "id": "xbS3Dxti8scE"
      },
      "execution_count": null,
      "outputs": []
    },
    {
      "cell_type": "markdown",
      "source": [
        "# Model building using Simple RNN and Training"
      ],
      "metadata": {
        "id": "jRej1yWQ8scE"
      }
    },
    {
      "cell_type": "code",
      "source": [
        "modelRNN = Sequential()\n",
        "modelRNN.add(Embedding(vocab_size, 100, input_length=200))\n",
        "modelRNN.add(SimpleRNN(62))\n",
        "modelRNN.add(Flatten())\n",
        "modelRNN.add(Dense(22,activation='relu'))\n",
        "modelRNN.add(Dropout(0.5))\n",
        "modelRNN.add(Dense(1,activation='sigmoid'))\n",
        "modelRNN.summary()\n",
        "modelRNN.compile(optimizer='adam', loss='binary_crossentropy', metrics=['acc'])\n",
        "history2 = modelRNN.fit(X_train_R, y_train_R, batch_size=batch_size, epochs=epochs, verbose=1, validation_split=0.2)"
      ],
      "metadata": {
        "execution": {
          "iopub.status.busy": "2023-11-22T15:33:26.364712Z",
          "iopub.execute_input": "2023-11-22T15:33:26.365096Z",
          "iopub.status.idle": "2023-11-22T15:50:29.784082Z",
          "shell.execute_reply.started": "2023-11-22T15:33:26.365062Z",
          "shell.execute_reply": "2023-11-22T15:50:29.783026Z"
        },
        "trusted": true,
        "id": "6pHy3qpY8scE"
      },
      "execution_count": null,
      "outputs": []
    },
    {
      "cell_type": "code",
      "source": [
        "y_pred = modelRNN.predict(X_test_R)\n",
        "threshold = 0.5\n",
        "y_pred_labels = np.where(y_pred >= threshold, 1, 0)\n",
        "\n",
        "print(classification_report(y_test_R, y_pred_labels))\n",
        "cm = confusion_matrix(y_test_R, y_pred_labels)\n",
        "plt.figure(figsize = (3,2))\n",
        "sns.heatmap(cm, annot=True, fmt='d')\n",
        "plt.xlabel('Prediction')\n",
        "plt.ylabel('Truth')"
      ],
      "metadata": {
        "execution": {
          "iopub.status.busy": "2023-11-22T15:50:29.786356Z",
          "iopub.execute_input": "2023-11-22T15:50:29.787096Z",
          "iopub.status.idle": "2023-11-22T15:50:33.361447Z",
          "shell.execute_reply.started": "2023-11-22T15:50:29.787058Z",
          "shell.execute_reply": "2023-11-22T15:50:33.36053Z"
        },
        "trusted": true,
        "id": "7Zt2MGvx8scE"
      },
      "execution_count": null,
      "outputs": []
    },
    {
      "cell_type": "markdown",
      "source": [
        "# Build LSTM Model and Training"
      ],
      "metadata": {
        "id": "5Wl2JVST8scF"
      }
    },
    {
      "cell_type": "code",
      "source": [
        "lstm_model = Sequential()\n",
        "lstm_model.add(Embedding(vocab_size, 300, input_length=200))\n",
        "lstm_model.add(LSTM(62))\n",
        "lstm_model.add(Dense(20,activation='relu'))\n",
        "lstm_model.add(Dropout(0.5))\n",
        "lstm_model.add(Dense(1,activation='sigmoid'))\n",
        "lstm_model.compile(optimizer='adam', loss='binary_crossentropy', metrics=['acc'])\n",
        "history3 = lstm_model.fit(X_train_R, y_train_R, batch_size=batch_size, epochs=epochs, verbose=1, validation_split=0.2)"
      ],
      "metadata": {
        "execution": {
          "iopub.status.busy": "2023-11-22T15:50:33.362682Z",
          "iopub.execute_input": "2023-11-22T15:50:33.362981Z",
          "iopub.status.idle": "2023-11-22T15:54:04.557678Z",
          "shell.execute_reply.started": "2023-11-22T15:50:33.362955Z",
          "shell.execute_reply": "2023-11-22T15:54:04.556819Z"
        },
        "trusted": true,
        "id": "X-yAHtMV8scF"
      },
      "execution_count": null,
      "outputs": []
    },
    {
      "cell_type": "code",
      "source": [
        "y_pred = lstm_model.predict(X_test_R)\n",
        "threshold = 0.5\n",
        "y_pred_labels = np.where(y_pred >= threshold, 1, 0)\n",
        "\n",
        "print(classification_report(y_test_R, y_pred_labels))\n",
        "cm = confusion_matrix(y_test_R, y_pred_labels)\n",
        "plt.figure(figsize = (3,2))\n",
        "sns.heatmap(cm, annot=True, fmt='d')\n",
        "plt.xlabel('Prediction')\n",
        "plt.ylabel('Truth')"
      ],
      "metadata": {
        "execution": {
          "iopub.status.busy": "2023-11-22T15:54:04.559673Z",
          "iopub.execute_input": "2023-11-22T15:54:04.559975Z",
          "iopub.status.idle": "2023-11-22T15:54:06.446483Z",
          "shell.execute_reply.started": "2023-11-22T15:54:04.559948Z",
          "shell.execute_reply": "2023-11-22T15:54:06.44559Z"
        },
        "trusted": true,
        "id": "0QXkx4A18scF"
      },
      "execution_count": null,
      "outputs": []
    },
    {
      "cell_type": "code",
      "source": [
        "sample_text_pos = ('''Wow! What an incredible movie! The storyline was engaging, the characters were well-\n",
        "    developed, and the cinematography was stunning. I couldn't take my eyes off the screen\n",
        "    from start to finish. The performances were outstanding, and the soundtrack added the\n",
        "    perfect touch. This is a must-watch for any movie enthusiast!''')\n",
        "\n",
        "sample_text_Neg = (\"\"\"I was really disappointed with this movie. The plot was confusing and poorly executed,\n",
        "and the characters felt one-dimensional. The dialogue was lackluster, and I found it hard\n",
        "to connect with any of the characters. The pacing was off, and there were too many unnecessary\n",
        "scenes that didn't contribute to the overall story.I had high expectations, but sadly, this movie\n",
        "didn't live up to them.\"\"\")\n",
        "\n",
        "tokenizer.fit_on_texts(sample_text_Neg)\n",
        "sample_text = tokenizer.texts_to_sequences([sample_text_Neg])\n",
        "\n",
        "sample_text = pad_sequences(sample_text, padding='post', maxlen=100)\n",
        "\n",
        "predictions = lstm_model.predict(sample_text)\n",
        "\n",
        "if predictions > 0.5:\n",
        "    print('The review is positive')\n",
        "else:\n",
        "    print('The review is negative')"
      ],
      "metadata": {
        "execution": {
          "iopub.status.busy": "2023-11-22T16:23:47.139383Z",
          "iopub.execute_input": "2023-11-22T16:23:47.140069Z",
          "iopub.status.idle": "2023-11-22T16:23:47.381266Z",
          "shell.execute_reply.started": "2023-11-22T16:23:47.140035Z",
          "shell.execute_reply": "2023-11-22T16:23:47.380142Z"
        },
        "trusted": true,
        "id": "cv6x4tXi8scF"
      },
      "execution_count": null,
      "outputs": []
    }
  ]
}